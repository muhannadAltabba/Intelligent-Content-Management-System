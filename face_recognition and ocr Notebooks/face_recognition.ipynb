{
  "nbformat": 4,
  "nbformat_minor": 0,
  "metadata": {
    "colab": {
      "name": "face_recognition.ipynb",
      "provenance": [],
      "collapsed_sections": []
    },
    "kernelspec": {
      "display_name": "Python 3",
      "name": "python3"
    },
    "language_info": {
      "name": "python"
    },
    "accelerator": "GPU"
  },
  "cells": [
    {
      "cell_type": "code",
      "metadata": {
        "colab": {
          "base_uri": "https://localhost:8080/"
        },
        "id": "2P0q-X79sTzG",
        "outputId": "4ef13e7b-2d63-4769-c40c-b7a4d91f69c9"
      },
      "source": [
        "!pip install face_recognition"
      ],
      "execution_count": null,
      "outputs": [
        {
          "output_type": "stream",
          "text": [
            "Collecting face_recognition\n",
            "  Downloading face_recognition-1.3.0-py2.py3-none-any.whl (15 kB)\n",
            "Requirement already satisfied: Pillow in /usr/local/lib/python3.7/dist-packages (from face_recognition) (7.1.2)\n",
            "Collecting face-recognition-models>=0.3.0\n",
            "  Downloading face_recognition_models-0.3.0.tar.gz (100.1 MB)\n",
            "\u001b[K     |████████████████████████████████| 100.1 MB 23 kB/s \n",
            "\u001b[?25hRequirement already satisfied: Click>=6.0 in /usr/local/lib/python3.7/dist-packages (from face_recognition) (7.1.2)\n",
            "Requirement already satisfied: dlib>=19.7 in /usr/local/lib/python3.7/dist-packages (from face_recognition) (19.18.0)\n",
            "Requirement already satisfied: numpy in /usr/local/lib/python3.7/dist-packages (from face_recognition) (1.19.5)\n",
            "Building wheels for collected packages: face-recognition-models\n",
            "  Building wheel for face-recognition-models (setup.py) ... \u001b[?25l\u001b[?25hdone\n",
            "  Created wheel for face-recognition-models: filename=face_recognition_models-0.3.0-py2.py3-none-any.whl size=100566185 sha256=27f5d330ca5b49514c704527f351cc3b0ebff994a0e688a8275b6ba5e03a05ea\n",
            "  Stored in directory: /root/.cache/pip/wheels/d6/81/3c/884bcd5e1c120ff548d57c2ecc9ebf3281c9a6f7c0e7e7947a\n",
            "Successfully built face-recognition-models\n",
            "Installing collected packages: face-recognition-models, face-recognition\n",
            "Successfully installed face-recognition-1.3.0 face-recognition-models-0.3.0\n"
          ],
          "name": "stdout"
        }
      ]
    },
    {
      "cell_type": "code",
      "metadata": {
        "id": "Qr22ftEAsbaD"
      },
      "source": [
        "import face_recognition\n",
        "import numpy as np"
      ],
      "execution_count": null,
      "outputs": []
    },
    {
      "cell_type": "code",
      "metadata": {
        "id": "HsLe1fRarcHx"
      },
      "source": [
        "class Face_recognition:\n",
        "  \n",
        "  known_face_encodings = []\n",
        "  known_face_names = []\n",
        "\n",
        "  def upper_first_letter(self, str):\n",
        "    res = \"\"\n",
        "    for s in str.split():\n",
        "      s = s[0].capitalize() +  s[1:]\n",
        "      res = res + \" \" + s\n",
        "    return res\n",
        "  \n",
        "\n",
        "  def add_person(self, name, url):\n",
        "    name = self.upper_first_letter(name)\n",
        "    if name not in self.known_face_names:\n",
        "      person_image = face_recognition.load_image_file(url)\n",
        "      person_face_encoding = face_recognition.face_encodings(person_image)[0]\n",
        "      self.known_face_encodings.append(person_face_encoding)\n",
        "      self.known_face_names.append(name)\n",
        "\n",
        "\n",
        "  # Load an image with an unknown face\n",
        "  def check_face(self, url):\n",
        "    persons = []\n",
        "    unknown_image = face_recognition.load_image_file(url)\n",
        "\n",
        "    # Find all the faces and face encodings in the unknown image\n",
        "    face_locations = face_recognition.face_locations(unknown_image)\n",
        "    face_encodings = face_recognition.face_encodings(unknown_image, face_locations)\n",
        "\n",
        "    # Loop through each face found in the unknown image\n",
        "    for (top, right, bottom, left), face_encoding in zip(face_locations, face_encodings):\n",
        "        # See if the face is a match for the known face(s)\n",
        "        matches = face_recognition.compare_faces(self.known_face_encodings, face_encoding, tolerance = 0.5)\n",
        "\n",
        "        name = \"Unknown\"\n",
        "\n",
        "        # Or instead, use the known face with the smallest distance to the new face\n",
        "        face_distances = face_recognition.face_distance(self.known_face_encodings, face_encoding)\n",
        "        best_match_index = np.argmin(face_distances)\n",
        "        if matches[best_match_index]:\n",
        "            name = self.known_face_names[best_match_index].lstrip()\n",
        "            \n",
        "        persons.append(name)\n",
        "    return persons \n"
      ],
      "execution_count": null,
      "outputs": []
    },
    {
      "cell_type": "code",
      "metadata": {
        "id": "Zsnyig6j42BP"
      },
      "source": [
        "import pickle\n",
        "\n",
        "def save_item(path, item):\n",
        "  with open( path ,'wb') as f:\n",
        "    pickle.dump(item, f)\n",
        "\n",
        "def load_item(path):\n",
        "  with open(path,'rb') as f:\n",
        "    return pickle.load(f)"
      ],
      "execution_count": null,
      "outputs": []
    },
    {
      "cell_type": "code",
      "metadata": {
        "id": "aX_ztCVstpf3",
        "colab": {
          "base_uri": "https://localhost:8080/"
        },
        "outputId": "a60d0496-9270-4a87-b5c8-6e907eddb7e5"
      },
      "source": [
        "from google.colab import drive\n",
        "drive.mount('/content/gdrive')"
      ],
      "execution_count": null,
      "outputs": [
        {
          "output_type": "stream",
          "text": [
            "Mounted at /content/gdrive\n"
          ],
          "name": "stdout"
        }
      ]
    },
    {
      "cell_type": "code",
      "metadata": {
        "id": "trd0CsKSt3re",
        "colab": {
          "base_uri": "https://localhost:8080/"
        },
        "outputId": "44596b0b-57d0-48c6-efa1-4b441b1d47dc"
      },
      "source": [
        "fr = Face_recognition()\n",
        "\n",
        "fr.known_face_encodings = load_item(\"/content/gdrive/MyDrive/known_face_encodings.pkl\")\n",
        "fr.known_face_names = load_item(\"/content/gdrive/MyDrive/known_face_names.pkl\")\n",
        "\n",
        "#fr.add_person(\"Lionel Messi\", \"/content/gdrive/MyDrive/Lionel_Messi_20180626.jpg\")\n",
        "fr.check_face(\"/content/gdrive/MyDrive/ronaldo_messi_nymar.jpg\")"
      ],
      "execution_count": null,
      "outputs": [
        {
          "output_type": "execute_result",
          "data": {
            "text/plain": [
              "['Neymar', 'Lionel Messi', 'Cristiano Ronaldo']"
            ]
          },
          "metadata": {},
          "execution_count": 7
        }
      ]
    },
    {
      "cell_type": "code",
      "metadata": {
        "id": "m36VR6Iwr8f1",
        "colab": {
          "base_uri": "https://localhost:8080/"
        },
        "outputId": "40cc5c13-2f26-418e-e225-bbcc624eb1e7"
      },
      "source": [
        "fr.check_face('/content/gdrive/MyDrive/nm.jpg')"
      ],
      "execution_count": null,
      "outputs": [
        {
          "output_type": "execute_result",
          "data": {
            "text/plain": [
              "['Neymar']"
            ]
          },
          "metadata": {},
          "execution_count": 9
        }
      ]
    },
    {
      "cell_type": "code",
      "metadata": {
        "id": "aaVyNJX-r8hs"
      },
      "source": [
        ""
      ],
      "execution_count": null,
      "outputs": []
    },
    {
      "cell_type": "code",
      "metadata": {
        "id": "nzIhO3GjYO0k"
      },
      "source": [
        "#from flask import request\n",
        "#import matplotlib.pyplot as plt\n",
        "#import PIL.Image\\\n",
        "#import PIL.ImageDraw\n",
        "#from PIL import Image, ImageDraw\n",
        "#from IPython.display import display\n",
        "#from urllib import request\n",
        "#import cv2\n",
        "from os import listdir\n",
        "import os"
      ],
      "execution_count": null,
      "outputs": []
    },
    {
      "cell_type": "code",
      "metadata": {
        "id": "-GRUvc4eM6Zk"
      },
      "source": [
        "!wget 'http://vis-www.cs.umass.edu/lfw/lfw.tgz'\n",
        "!tar -xvf  \"/content/lfw.tgz\""
      ],
      "execution_count": null,
      "outputs": []
    },
    {
      "cell_type": "code",
      "metadata": {
        "id": "qyMBEMYhQwnv"
      },
      "source": [
        "def load_faces(directory):\n",
        "\t# enumerate files\n",
        "  for filename in listdir(directory):\n",
        "    path = directory + filename + '/' + filename + '_0001.jpg'\n",
        "    #faces.append(translate(filename.replace(\"_\", \" \")))\n",
        "    try:\n",
        "      fr.add_person(filename.replace(\"_\", \" \"), path)\n",
        "    except:\n",
        "      continue"
      ],
      "execution_count": null,
      "outputs": []
    },
    {
      "cell_type": "code",
      "metadata": {
        "id": "5Be5FJT5EEQv"
      },
      "source": [
        "def test(directory):\n",
        "  true_value = 0\n",
        "  worrng_value = 0\n",
        "\t# enumerate files\n",
        "  for filename in listdir(directory):\n",
        "    path = directory + filename + '/' + filename + '_0002.jpg'\n",
        "    if os.path.isfile(path):  \n",
        "      try:\n",
        "        if fr.check_face(path)[0] != filename.replace(\"_\", \" \"):\n",
        "          worrng_value = worrng_value + 1\n",
        "        else:\n",
        "          true_value = true_value + 1\n",
        "      except:\n",
        "        continue\n",
        "  return true_value / (true_value + worrng_value)"
      ],
      "execution_count": null,
      "outputs": []
    },
    {
      "cell_type": "code",
      "metadata": {
        "id": "2wLuHHpz7QJH"
      },
      "source": [
        "test('/content/lfw/')"
      ],
      "execution_count": null,
      "outputs": []
    },
    {
      "cell_type": "code",
      "metadata": {
        "id": "9_yanJCvkuUl"
      },
      "source": [
        ""
      ],
      "execution_count": null,
      "outputs": []
    },
    {
      "cell_type": "code",
      "metadata": {
        "id": "yKwlljGIkuXA"
      },
      "source": [
        ""
      ],
      "execution_count": null,
      "outputs": []
    },
    {
      "cell_type": "code",
      "metadata": {
        "id": "_LgQp9yZtpid"
      },
      "source": [
        "import pandas as pd\n",
        "df = pd.read_csv(\"/content/gdrive/MyDrive/famous_faces.csv\")"
      ],
      "execution_count": null,
      "outputs": []
    },
    {
      "cell_type": "code",
      "metadata": {
        "id": "HJLX55z2tpk1"
      },
      "source": [
        "for row in df.index:\n",
        "  url = df['url'][row]\n",
        "  try:\n",
        "      fr.add_person(df['name'][row], request.urlopen(url))\n",
        "  except:\n",
        "      continue"
      ],
      "execution_count": null,
      "outputs": []
    },
    {
      "cell_type": "code",
      "metadata": {
        "colab": {
          "base_uri": "https://localhost:8080/"
        },
        "id": "PZfvtYhQpH62",
        "outputId": "026fd78f-0546-444b-f5fc-27bd5b0e1e5a"
      },
      "source": [
        "len(fr.known_face_encodings)"
      ],
      "execution_count": null,
      "outputs": [
        {
          "output_type": "execute_result",
          "data": {
            "text/plain": [
              "7"
            ]
          },
          "metadata": {
            "tags": []
          },
          "execution_count": 42
        }
      ]
    },
    {
      "cell_type": "code",
      "metadata": {
        "id": "lxFXLnigtN73"
      },
      "source": [
        "fr.add_person(\"Madhat Alsoos\", \"/content/gdrive/MyDrive/Madhat Alsoos.PNG\")\n",
        "fr.add_person(\"Ammar Alnahhas\", \"/content/gdrive/MyDrive/Ammar Alnahhas.jpg\")\n",
        "fr.add_person(\"Ammar Joukhadar\", \"/content/gdrive/MyDrive/Ammar Joukhadar.jpg\")\n",
        "fr.add_person(\"Mohamad Alaa Khairalla\", \"/content/gdrive/MyDrive/Mohamad Alaa Khairalla.PNG\")\n",
        "fr.add_person(\"Muhannad Al_Tabba\", \"/content/gdrive/MyDrive/Muhannad Al_Tabba.PNG\")\n",
        "fr.add_person(\"Sami Alesh\", \"/content/gdrive/MyDrive/Sami Alesh.PNG\")"
      ],
      "execution_count": null,
      "outputs": []
    },
    {
      "cell_type": "code",
      "metadata": {
        "colab": {
          "base_uri": "https://localhost:8080/"
        },
        "id": "VOANa2VmtYa2",
        "outputId": "4393f25f-6d3f-467a-8af1-3c2f04f37861"
      },
      "source": [
        "fr.check_face(\"/content/gdrive/MyDrive/test2.jpg\")"
      ],
      "execution_count": null,
      "outputs": [
        {
          "output_type": "execute_result",
          "data": {
            "text/plain": [
              "['Sami Alesh', 'Mohamad Alaa Khairalla', 'Muhannad Al_Tabba']"
            ]
          },
          "metadata": {
            "tags": []
          },
          "execution_count": 70
        }
      ]
    },
    {
      "cell_type": "code",
      "metadata": {
        "id": "JJlOVG3WJQH3"
      },
      "source": [
        ""
      ],
      "execution_count": null,
      "outputs": []
    },
    {
      "cell_type": "code",
      "metadata": {
        "id": "JzKZMk4D_Yiu"
      },
      "source": [
        ""
      ],
      "execution_count": null,
      "outputs": []
    },
    {
      "cell_type": "code",
      "metadata": {
        "id": "WejwWTa4jb9n",
        "colab": {
          "base_uri": "https://localhost:8080/"
        },
        "outputId": "14bf90cc-b33f-4182-9556-94df54df3b38"
      },
      "source": [
        "pip install googletrans==3.1.0a0"
      ],
      "execution_count": null,
      "outputs": [
        {
          "output_type": "stream",
          "text": [
            "Requirement already satisfied: googletrans==3.1.0a0 in /usr/local/lib/python3.7/dist-packages (3.1.0a0)\n",
            "Requirement already satisfied: httpx==0.13.3 in /usr/local/lib/python3.7/dist-packages (from googletrans==3.1.0a0) (0.13.3)\n",
            "Requirement already satisfied: certifi in /usr/local/lib/python3.7/dist-packages (from httpx==0.13.3->googletrans==3.1.0a0) (2021.5.30)\n",
            "Requirement already satisfied: sniffio in /usr/local/lib/python3.7/dist-packages (from httpx==0.13.3->googletrans==3.1.0a0) (1.2.0)\n",
            "Requirement already satisfied: hstspreload in /usr/local/lib/python3.7/dist-packages (from httpx==0.13.3->googletrans==3.1.0a0) (2021.7.5)\n",
            "Requirement already satisfied: idna==2.* in /usr/local/lib/python3.7/dist-packages (from httpx==0.13.3->googletrans==3.1.0a0) (2.10)\n",
            "Requirement already satisfied: httpcore==0.9.* in /usr/local/lib/python3.7/dist-packages (from httpx==0.13.3->googletrans==3.1.0a0) (0.9.1)\n",
            "Requirement already satisfied: rfc3986<2,>=1.3 in /usr/local/lib/python3.7/dist-packages (from httpx==0.13.3->googletrans==3.1.0a0) (1.5.0)\n",
            "Requirement already satisfied: chardet==3.* in /usr/local/lib/python3.7/dist-packages (from httpx==0.13.3->googletrans==3.1.0a0) (3.0.4)\n",
            "Requirement already satisfied: h2==3.* in /usr/local/lib/python3.7/dist-packages (from httpcore==0.9.*->httpx==0.13.3->googletrans==3.1.0a0) (3.2.0)\n",
            "Requirement already satisfied: h11<0.10,>=0.8 in /usr/local/lib/python3.7/dist-packages (from httpcore==0.9.*->httpx==0.13.3->googletrans==3.1.0a0) (0.9.0)\n",
            "Requirement already satisfied: hpack<4,>=3.0 in /usr/local/lib/python3.7/dist-packages (from h2==3.*->httpcore==0.9.*->httpx==0.13.3->googletrans==3.1.0a0) (3.0.0)\n",
            "Requirement already satisfied: hyperframe<6,>=5.2.0 in /usr/local/lib/python3.7/dist-packages (from h2==3.*->httpcore==0.9.*->httpx==0.13.3->googletrans==3.1.0a0) (5.2.0)\n"
          ],
          "name": "stdout"
        }
      ]
    },
    {
      "cell_type": "code",
      "metadata": {
        "id": "sDiHyZpOZbdt"
      },
      "source": [
        "from google.colab.patches import cv2_imshow"
      ],
      "execution_count": null,
      "outputs": []
    },
    {
      "cell_type": "code",
      "metadata": {
        "id": "KFWN0Nsqiylf"
      },
      "source": [
        "from googletrans import Translator\n",
        "translator = Translator()\n",
        "def translate(text):\n",
        "  translation = translator.translate(text, dest='ar')\n",
        "  return translation.text"
      ],
      "execution_count": null,
      "outputs": []
    }
  ]
}